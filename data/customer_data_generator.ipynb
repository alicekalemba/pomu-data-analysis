{
 "cells": [
  {
   "cell_type": "code",
   "execution_count": 1,
   "metadata": {},
   "outputs": [
    {
     "name": "stdout",
     "output_type": "stream",
     "text": [
      "Data generation complete!\n"
     ]
    }
   ],
   "source": [
    "import csv\n",
    "import random\n",
    "import uuid\n",
    "from datetime import datetime, timedelta\n",
    "\n",
    "# Constants\n",
    "NUM_ROWS = 500\n",
    "START_DATE = datetime.now() - timedelta(days=20*365)  # 20 years ago\n",
    "\n",
    "# Sample data\n",
    "NAMES = [\"Namwalwa\", \"Jane\", \"Nansukusa\", \"Alice\", \"Nakinobe\", \"Sarah\", \"James\", \"Florence\", \"William\", \"Bridget\"]\n",
    "BUSINESS_SECTORS = [\"Agriculture\", \"Retail\", \"Manufacturing\", \"Services\", \"IT\", \"Hospitality\", \"Fisheries\"]\n",
    "LOCATIONS = [\"Kampala\", \"Gulu\", \"Lira\", \"Mbarara\", \"Jinja\", \"Bwindi\", \"Entebbe\", \"Mbale\", \"Fort Portal\", \"Kisoro\"]\n",
    "EDUCATION_LEVELS = [\"Primary\", \"Secondary\", \"University\", \"Vocational\"]\n",
    "\n",
    "def random_date():\n",
    "    return (START_DATE + timedelta(days=random.randint(0, 20*365))).strftime('%Y-%m-%d')\n",
    "\n",
    "with open('customer_data.csv', 'w', newline='') as file:\n",
    "    writer = csv.writer(file)\n",
    "    writer.writerow([\"Customer Name\", \"uid\", \"business sector\", \"location\", \"phone number\", \"national ID\", \"passport\", \"tin\", \"gender\", \"education level\", \"business start date\"])\n",
    "    \n",
    "    for _ in range(NUM_ROWS):\n",
    "        name = random.choice(NAMES) + \" \" + random.choice(NAMES)\n",
    "        uid = uuid.uuid4()\n",
    "        business_sector = random.choice(BUSINESS_SECTORS)\n",
    "        location = random.choice(LOCATIONS)\n",
    "        phone_number = \"+256\" + str(random.randint(700000000, 799999999))\n",
    "        national_id = str(random.randint(10000000, 99999999))\n",
    "        passport = \"U\" + str(random.randint(1000000, 9999999))\n",
    "        tin = str(random.randint(1000000, 9999999))\n",
    "        gender = random.choice([\"Male\", \"Female\"])\n",
    "        education_level = random.choice(EDUCATION_LEVELS)\n",
    "        business_start_date = random_date()\n",
    "\n",
    "        writer.writerow([name, uid, business_sector, location, phone_number, national_id, passport, tin, gender, education_level, business_start_date])\n",
    "\n",
    "print(\"Data generation complete!\")\n"
   ]
  }
 ],
 "metadata": {
  "interpreter": {
   "hash": "b0fa6594d8f4cbf19f97940f81e996739fb7646882a419484c72d19e05852a7e"
  },
  "kernelspec": {
   "display_name": "Python 3.11.4 64-bit",
   "language": "python",
   "name": "python3"
  },
  "language_info": {
   "codemirror_mode": {
    "name": "ipython",
    "version": 3
   },
   "file_extension": ".py",
   "mimetype": "text/x-python",
   "name": "python",
   "nbconvert_exporter": "python",
   "pygments_lexer": "ipython3",
   "version": "3.11.4"
  },
  "orig_nbformat": 4
 },
 "nbformat": 4,
 "nbformat_minor": 2
}
