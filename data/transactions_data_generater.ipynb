{
 "cells": [
  {
   "cell_type": "code",
   "execution_count": 1,
   "metadata": {},
   "outputs": [
    {
     "name": "stdout",
     "output_type": "stream",
     "text": [
      "Transaction data generated and saved to transactions_data.csv!\n"
     ]
    }
   ],
   "source": [
    "import pandas as pd\n",
    "import random\n",
    "from datetime import datetime, timedelta\n",
    "\n",
    "# Read the customer data from \"customer_data.csv\" and convert it into a DataFrame\n",
    "customer_data = pd.read_csv('customer_data.csv')\n",
    "\n",
    "# Define function to generate random date within a range\n",
    "def random_date(start, end):\n",
    "    return start + timedelta(days=random.randint(0, (end-start).days))\n",
    "\n",
    "# Sample transaction data\n",
    "TYPES = [\"Credit\", \"Debit\"]\n",
    "REASONS = [\"Sale\", \"Purchase\", \"Refund\", \"Operating Expenses\", \"Miscellaneous\"]\n",
    "\n",
    "# Generate transactions\n",
    "transactions = []\n",
    "\n",
    "for _, row in customer_data.iterrows():\n",
    "    uid = row['uid']\n",
    "    customer_name = row['Customer Name']\n",
    "    business_start_date = datetime.strptime(row['business start date'], '%Y-%m-%d')\n",
    "    num_transactions = random.randint(50, 300)  # Number of transactions for each user\n",
    "    \n",
    "    for _ in range(num_transactions):\n",
    "        amount = round(random.uniform(100, 1000000), 2)  # Amounts between 100 and 1,000,000\n",
    "        trans_type = random.choice(TYPES)\n",
    "        reason = random.choice(REASONS)\n",
    "        trans_date = random_date(business_start_date, datetime.now()).strftime('%Y-%m-%d')\n",
    "        \n",
    "        transactions.append([customer_name, uid,  amount, trans_type, reason, trans_date])\n",
    "\n",
    "# Convert the list of transactions into a DataFrame\n",
    "transactions_df = pd.DataFrame(transactions, columns=[\"Customer Name\", \"uid\", \"amount\", \"type\", \"reason\", \"date\"])\n",
    "\n",
    "# Save the transactions to a new CSV file\n",
    "transactions_df.to_csv('transactions_data.csv', index=False)\n",
    "\n",
    "print(\"Transaction data generated and saved to transactions_data.csv!\")\n"
   ]
  }
 ],
 "metadata": {
  "kernelspec": {
   "display_name": "Python 3",
   "language": "python",
   "name": "python3"
  },
  "language_info": {
   "codemirror_mode": {
    "name": "ipython",
    "version": 3
   },
   "file_extension": ".py",
   "mimetype": "text/x-python",
   "name": "python",
   "nbconvert_exporter": "python",
   "pygments_lexer": "ipython3",
   "version": "3.9.6"
  },
  "orig_nbformat": 4
 },
 "nbformat": 4,
 "nbformat_minor": 2
}
