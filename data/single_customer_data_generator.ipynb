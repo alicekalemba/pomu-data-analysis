{
 "cells": [
  {
   "cell_type": "code",
   "execution_count": 1,
   "metadata": {},
   "outputs": [
    {
     "name": "stdout",
     "output_type": "stream",
     "text": [
      "Single customer data generation complete!\n"
     ]
    }
   ],
   "source": [
    "import csv\n",
    "import random\n",
    "import uuid\n",
    "from datetime import datetime, timedelta\n",
    "\n",
    "# Sample data\n",
    "NAMES = [\"Namwalwa\", \"Jane\", \"Nansukusa\", \"Alice\", \"Nakinobe\", \"Sarah\", \"James\", \"Florence\", \"William\", \"Bridget\"]\n",
    "BUSINESS_SECTORS = [\"Agriculture\", \"Retail\", \"Manufacturing\", \"Services\", \"IT\", \"Hospitality\", \"Fisheries\"]\n",
    "LOCATIONS = [\"Kampala\", \"Gulu\", \"Lira\", \"Mbarara\", \"Jinja\", \"Bwindi\", \"Entebbe\", \"Mbale\", \"Fort Portal\", \"Kisoro\"]\n",
    "EDUCATION_LEVELS = [\"Primary\", \"Secondary\", \"University\", \"Vocational\"]\n",
    "\n",
    "def random_date(start_date, days_old):\n",
    "    return (start_date - timedelta(days=random.randint(0, days_old))).strftime('%Y-%m-%d')\n",
    "\n",
    "# Constants\n",
    "START_DATE = datetime.now()  # starting today\n",
    "DAYS_OLD = 20 * 365  # up to 20 years old\n",
    "\n",
    "# Generating a single customer data\n",
    "name = random.choice(NAMES) + \" \" + random.choice(NAMES)\n",
    "uid = uuid.uuid4()\n",
    "business_sector = random.choice(BUSINESS_SECTORS)\n",
    "location = random.choice(LOCATIONS)\n",
    "phone_number = \"+256\" + str(random.randint(700000000, 799999999))\n",
    "national_id = str(random.randint(10000000, 99999999))\n",
    "passport = \"U\" + str(random.randint(1000000, 9999999))\n",
    "tin = str(random.randint(1000000, 9999999))\n",
    "gender = random.choice([\"Male\", \"Female\"])\n",
    "education_level = random.choice(EDUCATION_LEVELS)\n",
    "business_start_date = random_date(START_DATE, DAYS_OLD)\n",
    "\n",
    "# Save to CSV\n",
    "with open('single_customer_data.csv', 'w', newline='') as file:\n",
    "    writer = csv.writer(file)\n",
    "    writer.writerow([\"Customer Name\", \"uid\", \"business sector\", \"location\", \"phone number\", \"national ID\", \"passport\", \"tin\", \"gender\", \"education level\", \"business start date\"])\n",
    "    writer.writerow([name, uid, business_sector, location, phone_number, national_id, passport, tin, gender, education_level, business_start_date])\n",
    "\n",
    "print(\"Single customer data generation complete!\")\n"
   ]
  }
 ],
 "metadata": {
  "kernelspec": {
   "display_name": "Python 3",
   "language": "python",
   "name": "python3"
  },
  "language_info": {
   "codemirror_mode": {
    "name": "ipython",
    "version": 3
   },
   "file_extension": ".py",
   "mimetype": "text/x-python",
   "name": "python",
   "nbconvert_exporter": "python",
   "pygments_lexer": "ipython3",
   "version": "3.9.6"
  },
  "orig_nbformat": 4
 },
 "nbformat": 4,
 "nbformat_minor": 2
}
